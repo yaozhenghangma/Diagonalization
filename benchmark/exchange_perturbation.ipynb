{
 "cells": [
  {
   "cell_type": "code",
   "execution_count": 2,
   "id": "initial_id",
   "metadata": {
    "collapsed": true,
    "ExecuteTime": {
     "end_time": "2023-10-16T06:35:27.470478Z",
     "start_time": "2023-10-16T06:35:27.461139Z"
    }
   },
   "outputs": [],
   "source": [
    "from sympy import *\n",
    "init_printing(use_unicode=True)"
   ]
  },
  {
   "cell_type": "code",
   "execution_count": 3,
   "outputs": [],
   "source": [
    "t = symbols('t')\n",
    "Ht = Matrix([\n",
    "    [0, 0, 0, 0, 0, 0],\n",
    "    [0, 0, t, t, 0, 0],\n",
    "    [0, t, 0, 0, t, 0],\n",
    "    [0, t, 0, 0, t, 0],\n",
    "    [0, 0, t, t, 0, 0],\n",
    "    [0, 0, 0, 0, 0, 0],\n",
    "])"
   ],
   "metadata": {
    "collapsed": false,
    "ExecuteTime": {
     "end_time": "2023-10-16T06:36:32.468143Z",
     "start_time": "2023-10-16T06:36:32.465319Z"
    }
   },
   "id": "c453af54b71eaa25"
  },
  {
   "cell_type": "code",
   "execution_count": 4,
   "outputs": [
    {
     "data": {
      "text/plain": "⎡0  0  0  0  0  0⎤\n⎢                ⎥\n⎢0  0  t  t  0  0⎥\n⎢                ⎥\n⎢0  t  0  0  t  0⎥\n⎢                ⎥\n⎢0  t  0  0  t  0⎥\n⎢                ⎥\n⎢0  0  t  t  0  0⎥\n⎢                ⎥\n⎣0  0  0  0  0  0⎦",
      "image/png": "[encoded data removed]",
      "text/latex": "$\\displaystyle \\left[\\begin{matrix}0 & 0 & 0 & 0 & 0 & 0\\\\0 & 0 & t & t & 0 & 0\\\\0 & t & 0 & 0 & t & 0\\\\0 & t & 0 & 0 & t & 0\\\\0 & 0 & t & t & 0 & 0\\\\0 & 0 & 0 & 0 & 0 & 0\\end{matrix}\\right]$"
     },
     "execution_count": 4,
     "metadata": {},
     "output_type": "execute_result"
    }
   ],
   "source": [
    "Ht"
   ],
   "metadata": {
    "collapsed": false,
    "ExecuteTime": {
     "end_time": "2023-10-16T06:36:40.224274Z",
     "start_time": "2023-10-16T06:36:39.342646Z"
    }
   },
   "id": "7cb745d747637852"
  },
  {
   "cell_type": "code",
   "execution_count": 5,
   "outputs": [
    {
     "data": {
      "text/plain": "⎡0  0  0  0  0  0⎤\n⎢                ⎥\n⎢0  U  0  0  0  0⎥\n⎢                ⎥\n⎢0  0  0  0  0  0⎥\n⎢                ⎥\n⎢0  0  0  0  0  0⎥\n⎢                ⎥\n⎢0  0  0  0  U  0⎥\n⎢                ⎥\n⎣0  0  0  0  0  0⎦",
      "image/png": "[encoded data removed]",
      "text/latex": "$\\displaystyle \\left[\\begin{matrix}0 & 0 & 0 & 0 & 0 & 0\\\\0 & U & 0 & 0 & 0 & 0\\\\0 & 0 & 0 & 0 & 0 & 0\\\\0 & 0 & 0 & 0 & 0 & 0\\\\0 & 0 & 0 & 0 & U & 0\\\\0 & 0 & 0 & 0 & 0 & 0\\end{matrix}\\right]$"
     },
     "execution_count": 5,
     "metadata": {},
     "output_type": "execute_result"
    }
   ],
   "source": [
    "U = symbols('U')\n",
    "H0 = Matrix([\n",
    "    [0, 0, 0, 0, 0, 0],\n",
    "    [0, U, 0, 0, 0, 0],\n",
    "    [0, 0, 0, 0, 0, 0],\n",
    "    [0, 0, 0, 0, 0, 0],\n",
    "    [0, 0, 0, 0, U, 0],\n",
    "    [0, 0, 0, 0, 0, 0],\n",
    "])\n",
    "H0"
   ],
   "metadata": {
    "collapsed": false,
    "ExecuteTime": {
     "end_time": "2023-10-16T06:37:36.727138Z",
     "start_time": "2023-10-16T06:37:36.202198Z"
    }
   },
   "id": "43aede831bd94b3c"
  },
  {
   "cell_type": "code",
   "execution_count": 9,
   "outputs": [],
   "source": [
    "psi_11 = Matrix([1, 0, 0, 0, 0, 0])\n",
    "psi_10 = Matrix([0, 0, 1, 0, 0, 0])\n",
    "psi_01 = Matrix([0, 0, 0, 1, 0, 0])\n",
    "psi_00 = Matrix([0, 0, 0, 0, 0, 1])"
   ],
   "metadata": {
    "collapsed": false,
    "ExecuteTime": {
     "end_time": "2023-10-16T06:39:46.436794Z",
     "start_time": "2023-10-16T06:39:46.432239Z"
    }
   },
   "id": "fe48a67909a78696"
  },
  {
   "cell_type": "code",
   "execution_count": 14,
   "outputs": [
    {
     "data": {
      "text/plain": "⎡      2⎤\n⎣-4⋅U⋅t ⎦",
      "image/png": "[encoded data removed]",
      "text/latex": "$\\displaystyle \\left[\\begin{matrix}- 4 U t^{2}\\end{matrix}\\right]$"
     },
     "execution_count": 14,
     "metadata": {},
     "output_type": "execute_result"
    }
   ],
   "source": [
    "2 * (Ht * psi_10).T * (-H0) * (Ht * psi_01)"
   ],
   "metadata": {
    "collapsed": false,
    "ExecuteTime": {
     "end_time": "2023-10-16T06:41:27.421827Z",
     "start_time": "2023-10-16T06:41:26.884095Z"
    }
   },
   "id": "21848648f767424"
  },
  {
   "cell_type": "code",
   "execution_count": null,
   "outputs": [],
   "source": [],
   "metadata": {
    "collapsed": false
   },
   "id": "5b0223f2abdfa608"
  }
 ],
 "metadata": {
  "kernelspec": {
   "display_name": "Python 3",
   "language": "python",
   "name": "python3"
  },
  "language_info": {
   "codemirror_mode": {
    "name": "ipython",
    "version": 2
   },
   "file_extension": ".py",
   "mimetype": "text/x-python",
   "name": "python",
   "nbconvert_exporter": "python",
   "pygments_lexer": "ipython2",
   "version": "2.7.6"
  }
 },
 "nbformat": 4,
 "nbformat_minor": 5
}
